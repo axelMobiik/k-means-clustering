{
 "cells": [
  {
   "cell_type": "markdown",
   "id": "a2c4f3d6-a537-4e37-97fe-7287b7c9c1a4",
   "metadata": {},
   "source": [
    "<h1>Introduction to K Means Clustering</h1>\n",
    "<p>\n",
    "    K Means Clustering is an unsupervised learning algorithm that will attempt to group similar clusters together in your data.\n",
    "    <br>So what does a typical clustering problem look like?\n",
    "    <li>Cluster Similar Documents</li>\n",
    "    <li>Cluster Customers based on Features</li>\n",
    "    <li>Market Segmentation</li>\n",
    "    <li>Identify similar physical groups</li>\n",
    "</p>\n",
    "<p>\n",
    "    The overall goal is to divide data into distinct groups such that ovservations within each group are similar\n",
    "    <br>The K Means Algorithm\n",
    "    <li>Choose a number of Clusters \"K\"</li>\n",
    "    <li>Randomly assign each point to a cluster</li>\n",
    "    <li>Until cluster stop changing, repeat the following: </li>\n",
    "    <li>> For each cluster, compute the cluster centroid by taking the mean vector of points in the cluster</li>\n",
    "    <li>> Assign each data point to the cluster for which the centroid is the closest</li>\n",
    "</p>\n",
    "<p>\n",
    "    <li>There is no easy answer for choosing a \"best\" K value</li>\n",
    "    <li>One way is the elbow method</li>\n",
    "    First of all, compute the sum of swared error (SSE) for some values of K (for example 2, 4, 6, 8, etc.).\n",
    "    <br>The SSE is defined as the sum of the squared distance between each member of the cluster and it's centroid.\n",
    "</p>\n",
    "<p>\n",
    "    If you plot K against the SSE, you will see that the error decreases as k gets larget; this is because when the number of clusters increases, they should be smaller, so distortion is also smaller.\n",
    "    <br>The idea of the elbow method is to choose the K at which the SSE decreases abruptly.\n",
    "    <br>This produces an \"elbow effect\" in the graph\n",
    "</p>"
   ]
  },
  {
   "cell_type": "code",
   "execution_count": null,
   "id": "e876f21b-84fd-4ae7-b7b8-90ca48f3ed0a",
   "metadata": {},
   "outputs": [],
   "source": []
  }
 ],
 "metadata": {
  "kernelspec": {
   "display_name": "Python 3 (ipykernel)",
   "language": "python",
   "name": "python3"
  },
  "language_info": {
   "codemirror_mode": {
    "name": "ipython",
    "version": 3
   },
   "file_extension": ".py",
   "mimetype": "text/x-python",
   "name": "python",
   "nbconvert_exporter": "python",
   "pygments_lexer": "ipython3",
   "version": "3.11.7"
  }
 },
 "nbformat": 4,
 "nbformat_minor": 5
}
